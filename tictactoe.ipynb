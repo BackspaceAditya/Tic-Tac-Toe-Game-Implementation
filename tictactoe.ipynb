{
 "cells": [
  {
   "cell_type": "code",
   "execution_count": 2,
   "metadata": {},
   "outputs": [],
   "source": [
    "from IPython.display import clear_output\n"
   ]
  },
  {
   "cell_type": "code",
   "execution_count": 3,
   "metadata": {},
   "outputs": [],
   "source": [
    "def display_board(board):\n",
    "    print(board[7]+'|'+board[8]+'|'+board[9])\n",
    "\n",
    "    print(board[4]+'|'+board[5]+'|'+board[6])\n",
    " \n",
    "    print(board[1]+'|'+board[2]+'|'+board[3])\n",
    "    "
   ]
  },
  {
   "cell_type": "code",
   "execution_count": 4,
   "metadata": {},
   "outputs": [
    {
     "name": "stdout",
     "output_type": "stream",
     "text": [
      "||\n",
      "||\n",
      "||\n"
     ]
    }
   ],
   "source": [
    "test_board=['']*10\n",
    "display_board(test_board)"
   ]
  },
  {
   "cell_type": "code",
   "execution_count": 5,
   "metadata": {},
   "outputs": [],
   "source": [
    "def player_input():\n",
    "   \n",
    "    marker=''\n",
    "    while not(marker=='X'or marker=='O'):\n",
    "        marker=input(\"please choose X or O \").upper()\n",
    "    if marker=='X':\n",
    "        return('X','O')\n",
    "    else:\n",
    "        return('O','X')"
   ]
  },
  {
   "cell_type": "code",
   "execution_count": 6,
   "metadata": {},
   "outputs": [
    {
     "data": {
      "text/plain": [
       "('O', 'X')"
      ]
     },
     "execution_count": 6,
     "metadata": {},
     "output_type": "execute_result"
    }
   ],
   "source": [
    "player_input()"
   ]
  },
  {
   "cell_type": "code",
   "execution_count": null,
   "metadata": {},
   "outputs": [],
   "source": []
  },
  {
   "cell_type": "markdown",
   "metadata": {},
   "source": []
  },
  {
   "cell_type": "code",
   "execution_count": null,
   "metadata": {},
   "outputs": [],
   "source": []
  },
  {
   "cell_type": "code",
   "execution_count": 7,
   "metadata": {},
   "outputs": [],
   "source": [
    "def place_marker(board,marker,position):\n",
    "    board[position]=marker"
   ]
  },
  {
   "cell_type": "code",
   "execution_count": 8,
   "metadata": {},
   "outputs": [
    {
     "name": "stdout",
     "output_type": "stream",
     "text": [
      "E||\n",
      "||\n",
      "||\n"
     ]
    }
   ],
   "source": [
    "place_marker(test_board,'E',7)\n",
    "display_board(test_board)"
   ]
  },
  {
   "cell_type": "code",
   "execution_count": null,
   "metadata": {},
   "outputs": [],
   "source": []
  },
  {
   "cell_type": "code",
   "execution_count": 9,
   "metadata": {},
   "outputs": [],
   "source": [
    "\n",
    "def win_check(board, marker):\n",
    "    for i in board:\n",
    "        if board[1]==board[2]==board[3]==marker or board[4]==board[5]==board[6]==marker or board[7]==board[8]==board[9]==marker:\n",
    "            return True\n",
    "    for i in board:\n",
    "        if board[1]==board[4]==board[7]==marker or board[2]==board[5]==board[8]==marker or board[3]==board[6]==board[9]==marker:\n",
    "            return True\n",
    "    for i in board:\n",
    "        if board[1]==board[5]==board[9]==marker or board[3]==board[5]==board[7]==marker:\n",
    "            return True\n",
    "    else:\n",
    "        return False\n"
   ]
  },
  {
   "cell_type": "code",
   "execution_count": 10,
   "metadata": {},
   "outputs": [
    {
     "data": {
      "text/plain": [
       "False"
      ]
     },
     "execution_count": 10,
     "metadata": {},
     "output_type": "execute_result"
    }
   ],
   "source": [
    "win_check(test_board,'X') "
   ]
  },
  {
   "cell_type": "code",
   "execution_count": 11,
   "metadata": {},
   "outputs": [],
   "source": [
    "import random\n",
    "def choose_first():\n",
    "    choice=random.randint(0,1)\n",
    "    if choice == 0:\n",
    "        return 'Player2'\n",
    "    else:\n",
    "        return 'Player1'"
   ]
  },
  {
   "cell_type": "code",
   "execution_count": 12,
   "metadata": {},
   "outputs": [],
   "source": [
    "def space_check(board, position):\n",
    "    return board[position]==''"
   ]
  },
  {
   "cell_type": "code",
   "execution_count": 13,
   "metadata": {},
   "outputs": [],
   "source": [
    "def fullboard_check(board):\n",
    "    for i in range(1,10):\n",
    "        if space_check(board,i):\n",
    "            return False\n",
    "    return True"
   ]
  },
  {
   "cell_type": "code",
   "execution_count": 14,
   "metadata": {},
   "outputs": [],
   "source": [
    "def player_choice(board):\n",
    "\n",
    "    position = 0\n",
    "\n",
    "    while position not in[1,2,3,4,5,6,7,8,9] or not space_check(board,position):\n",
    "        position = int(input(\"choose a position between (1-9)\"))\n",
    "\n",
    "    return position"
   ]
  },
  {
   "cell_type": "code",
   "execution_count": 15,
   "metadata": {},
   "outputs": [],
   "source": [
    "def replay():\n",
    "\n",
    "    choice = input(\"Do you wanna play again 'yes' or 'no'\")\n",
    "\n",
    "    return choice=='yes'\n"
   ]
  },
  {
   "cell_type": "code",
   "execution_count": 16,
   "metadata": {},
   "outputs": [
    {
     "name": "stdout",
     "output_type": "stream",
     "text": [
      "Enter the game\n",
      "Player2 will play\n",
      "||\n",
      "||\n",
      "||\n",
      "||X\n",
      "||\n",
      "||\n",
      "|O|X\n",
      "||\n",
      "||\n",
      "|O|X\n",
      "||X\n",
      "||\n",
      "|O|X\n",
      "||X\n",
      "|O|\n",
      "|O|X\n",
      "||X\n",
      "|O|X\n",
      "Player 2 has won\n"
     ]
    }
   ],
   "source": [
    "#WHILE LOOP TO KEEP PLAYING THE GAME\n",
    "\n",
    "print(\"Enter the game\")\n",
    "while True:\n",
    "\n",
    "    #board, whose up, choose x,o\n",
    "\n",
    "    the_board=['']*10\n",
    "    player1input,player2input = player_input()\n",
    "\n",
    "    turn=choose_first()\n",
    "    print(turn+' will play')\n",
    "\n",
    "    play_game=input('Ready to play? Y or N')\n",
    "    if play_game=='Y':\n",
    "        game_on=True\n",
    "    else:\n",
    "        game_on=False\n",
    "\n",
    "    #play\n",
    "\n",
    "    while game_on:\n",
    "        if turn == 'Player 1':\n",
    "\n",
    "            display_board(the_board)\n",
    "\n",
    "            #choose a position\n",
    "\n",
    "            position=player_choice(the_board)\n",
    "\n",
    "\n",
    "            #place the mark on that position\n",
    "\n",
    "            place_marker(the_board,player1input,position)\n",
    "            #check if win\n",
    "            if win_check(the_board, player1input):\n",
    "                display_board(the_board)\n",
    "                print('Player 1 has won')\n",
    "                game_on=False\n",
    "            else:\n",
    "                if fullboard_check(the_board):\n",
    "                    display_board(the_board)\n",
    "                    print(\"Tied\")\n",
    "                    game_on=False\n",
    "\n",
    "                else:\n",
    "                    turn='Player 2'\n",
    "\n",
    "        else:\n",
    "        \n",
    "            display_board(the_board)\n",
    "\n",
    "\n",
    "                #choose a position\n",
    "            position=player_choice(the_board)\n",
    "\n",
    "\n",
    "                #place a mark\n",
    "            place_marker(the_board,player2input,position)\n",
    "\n",
    "                #check if win\n",
    "            if win_check(the_board,player2input):\n",
    "                    display_board(the_board)\n",
    "                    print('Player 2 has won')\n",
    "                    game_on=False\n",
    "            else:\n",
    "                 if fullboard_check(the_board):\n",
    "                      display_board(the_board)\n",
    "                      print(\"the game is tied\")\n",
    "                      break\n",
    "                 else:\n",
    "                    turn = 'Player 1'\n",
    "\n",
    "\n",
    "\n",
    "            #or check tie\n",
    "\n",
    "    if not replay():\n",
    "        break\n",
    "\n"
   ]
  },
  {
   "cell_type": "code",
   "execution_count": null,
   "metadata": {},
   "outputs": [],
   "source": []
  },
  {
   "cell_type": "code",
   "execution_count": null,
   "metadata": {},
   "outputs": [],
   "source": []
  }
 ],
 "metadata": {
  "kernelspec": {
   "display_name": "Python 3",
   "language": "python",
   "name": "python3"
  },
  "language_info": {
   "codemirror_mode": {
    "name": "ipython",
    "version": 3
   },
   "file_extension": ".py",
   "mimetype": "text/x-python",
   "name": "python",
   "nbconvert_exporter": "python",
   "pygments_lexer": "ipython3",
   "version": "3.11.0"
  }
 },
 "nbformat": 4,
 "nbformat_minor": 2
}
